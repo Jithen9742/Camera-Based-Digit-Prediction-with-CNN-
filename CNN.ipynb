{
  "nbformat": 4,
  "nbformat_minor": 0,
  "metadata": {
    "colab": {
      "provenance": []
    },
    "kernelspec": {
      "name": "python3",
      "display_name": "Python 3"
    },
    "language_info": {
      "name": "python"
    }
  },
  "cells": [
    {
      "cell_type": "markdown",
      "source": [
        "**Packages needed to be imported**"
      ],
      "metadata": {
        "id": "BOY4mfm-AkH1"
      }
    },
    {
      "cell_type": "code",
      "execution_count": 9,
      "metadata": {
        "id": "s0u4BSCGAWOq"
      },
      "outputs": [],
      "source": [
        "import numpy as np\n",
        "import pandas as pd\n",
        "import tensorflow as tf\n",
        "from tensorflow.keras import layers,models,callbacks\n",
        "from PIL import Image,ImageOps\n",
        "import matplotlib.pyplot as plt"
      ]
    },
    {
      "cell_type": "markdown",
      "source": [
        "**Loading the data**"
      ],
      "metadata": {
        "id": "MtvqCDddBOXz"
      }
    },
    {
      "cell_type": "code",
      "source": [
        "(train_images,train_labels),(test_images,test_labels)=tf.keras.datasets.mnist.load_data()"
      ],
      "metadata": {
        "colab": {
          "base_uri": "https://localhost:8080/"
        },
        "id": "KkZdET9JBQFr",
        "outputId": "766d0429-77c4-48c4-cd0d-7858cccfeb39"
      },
      "execution_count": 3,
      "outputs": [
        {
          "output_type": "stream",
          "name": "stdout",
          "text": [
            "Downloading data from https://storage.googleapis.com/tensorflow/tf-keras-datasets/mnist.npz\n",
            "\u001b[1m11490434/11490434\u001b[0m \u001b[32m━━━━━━━━━━━━━━━━━━━━\u001b[0m\u001b[37m\u001b[0m \u001b[1m0s\u001b[0m 0us/step\n"
          ]
        }
      ]
    },
    {
      "cell_type": "code",
      "source": [
        "train_images.shape\n",
        "test_images.shape"
      ],
      "metadata": {
        "colab": {
          "base_uri": "https://localhost:8080/"
        },
        "id": "XgVGNF4ABvBB",
        "outputId": "9acfaf2a-f872-40f1-f23a-1cc2aa08695e"
      },
      "execution_count": 6,
      "outputs": [
        {
          "output_type": "execute_result",
          "data": {
            "text/plain": [
              "(10000, 28, 28)"
            ]
          },
          "metadata": {},
          "execution_count": 6
        }
      ]
    },
    {
      "cell_type": "markdown",
      "source": [
        "**visually see the data**"
      ],
      "metadata": {
        "id": "eCY5jKIECOmy"
      }
    },
    {
      "cell_type": "code",
      "source": [
        "plt.figure(figsize=(8,8))\n",
        "for i in range(9):\n",
        "  plt.subplot(3,3,i+1)\n",
        "  plt.imshow(train_images[i],cmap='gray')\n",
        "  plt.title(f'Label: {train_labels[i]}')\n",
        "  plt.axis('off')"
      ],
      "metadata": {
        "colab": {
          "base_uri": "https://localhost:8080/",
          "height": 675
        },
        "id": "YMZnoZgiCU7r",
        "outputId": "d45d2ae0-3653-4cfb-a408-906e8855616a"
      },
      "execution_count": 15,
      "outputs": [
        {
          "output_type": "display_data",
          "data": {
            "text/plain": [
              "<Figure size 800x800 with 9 Axes>"
            ],
            "image/png": "[encoded data removed]"
          },
          "metadata": {}
        }
      ]
    },
    {
      "cell_type": "markdown",
      "source": [
        "**Normalize the images**"
      ],
      "metadata": {
        "id": "8d8BNXEJDhUv"
      }
    },
    {
      "cell_type": "code",
      "source": [
        "train_images.dtype"
      ],
      "metadata": {
        "colab": {
          "base_uri": "https://localhost:8080/"
        },
        "id": "_IT1QuxjDx9Y",
        "outputId": "9768acee-d2a5-4664-e8a1-7b66d9f4f7a2"
      },
      "execution_count": 16,
      "outputs": [
        {
          "output_type": "execute_result",
          "data": {
            "text/plain": [
              "dtype('uint8')"
            ]
          },
          "metadata": {},
          "execution_count": 16
        }
      ]
    },
    {
      "cell_type": "code",
      "source": [
        "train_images=train_images.astype('float32')/255\n",
        "test_images=test_images.astype('float32')/255"
      ],
      "metadata": {
        "id": "-u4FnEHiDkWO"
      },
      "execution_count": 17,
      "outputs": []
    },
    {
      "cell_type": "markdown",
      "source": [
        "**reshaping it for including channel dimension**"
      ],
      "metadata": {
        "id": "udj84PrhD84U"
      }
    },
    {
      "cell_type": "code",
      "source": [
        "train_images[0].shape"
      ],
      "metadata": {
        "colab": {
          "base_uri": "https://localhost:8080/"
        },
        "id": "FALYchebFiVv",
        "outputId": "88349195-838b-4d0f-d548-d5f87d3a0791"
      },
      "execution_count": 18,
      "outputs": [
        {
          "output_type": "execute_result",
          "data": {
            "text/plain": [
              "(28, 28)"
            ]
          },
          "metadata": {},
          "execution_count": 18
        }
      ]
    },
    {
      "cell_type": "code",
      "source": [
        "train_images=train_images.reshape((-1,28,28,1))\n",
        "test_images=test_images.reshape((-1,28,28,1))"
      ],
      "metadata": {
        "id": "EsLwbGNMFoF5"
      },
      "execution_count": 26,
      "outputs": []
    },
    {
      "cell_type": "code",
      "source": [
        "train_images[0].shape"
      ],
      "metadata": {
        "colab": {
          "base_uri": "https://localhost:8080/"
        },
        "id": "3zoLkorFGlnS",
        "outputId": "3219cb04-2103-4016-b532-7b1f33de9fd3"
      },
      "execution_count": 27,
      "outputs": [
        {
          "output_type": "execute_result",
          "data": {
            "text/plain": [
              "(28, 28, 1)"
            ]
          },
          "metadata": {},
          "execution_count": 27
        }
      ]
    },
    {
      "cell_type": "markdown",
      "source": [
        "**One hot encoding for labels**"
      ],
      "metadata": {
        "id": "3w4MPtX_ICAb"
      }
    },
    {
      "cell_type": "code",
      "source": [
        "train_labels=tf.keras.utils.to_categorical(train_labels)\n",
        "test_labels=tf.keras.utils.to_categorical(test_labels)"
      ],
      "metadata": {
        "id": "0jSe6MmFIBIq"
      },
      "execution_count": 28,
      "outputs": []
    },
    {
      "cell_type": "markdown",
      "source": [
        "**Data agumentation**"
      ],
      "metadata": {
        "id": "q0P1S28eJAde"
      }
    },
    {
      "cell_type": "code",
      "source": [
        "data_agumentation=tf.keras.Sequential([\n",
        "    layers.RandomZoom(0.1),\n",
        "    layers.RandomRotation(0.10)\n",
        "])"
      ],
      "metadata": {
        "id": "G9Y-GfT3IjSH"
      },
      "execution_count": 31,
      "outputs": []
    },
    {
      "cell_type": "markdown",
      "source": [
        "**Model Building**"
      ],
      "metadata": {
        "id": "nMbwusnvJ4VP"
      }
    },
    {
      "cell_type": "code",
      "source": [
        "def create_model():\n",
        "  model=models.Sequential([\n",
        "      layers.Conv2D(32,(3,3),activation='relu',input_shape=(28,28,1)),\n",
        "      layers.BatchNormalization(),  #Normalization\n",
        "      layers.MaxPool2D((2,2)),\n",
        "\n",
        "      layers.Conv2D(64,(3,3),activation='relu'),\n",
        "      layers.BatchNormalization(),\n",
        "      layers.MaxPooling2D((2,2)),\n",
        "\n",
        "      layers.Conv2D(128,(3,3),activation='relu'),\n",
        "      layers.BatchNormalization(),\n",
        "\n",
        "      layers.Flatten(),\n",
        "\n",
        "      layers.Dense(128,activation='relu'),\n",
        "      layers.Dropout(0.50),\n",
        "      layers.Dense(10,activation='softmax')\n",
        "  ])\n",
        "  return model"
      ],
      "metadata": {
        "id": "00XVQkLcJ6kd"
      },
      "execution_count": 45,
      "outputs": []
    },
    {
      "cell_type": "markdown",
      "source": [
        "**Creating instance for model**"
      ],
      "metadata": {
        "id": "RJysL-LWN93z"
      }
    },
    {
      "cell_type": "code",
      "source": [
        "model=create_model()\n",
        "model.compile(optimizer='adam',loss='categorical_crossentropy',metrics=['accuracy'])"
      ],
      "metadata": {
        "colab": {
          "base_uri": "https://localhost:8080/"
        },
        "id": "HUc17Sz1OAQK",
        "outputId": "75771f91-7f42-4acc-9e32-c794f4a9e2a1"
      },
      "execution_count": 46,
      "outputs": [
        {
          "output_type": "stream",
          "name": "stderr",
          "text": [
            "/usr/local/lib/python3.10/dist-packages/keras/src/layers/convolutional/base_conv.py:107: UserWarning: Do not pass an `input_shape`/`input_dim` argument to a layer. When using Sequential models, prefer using an `Input(shape)` object as the first layer in the model instead.\n",
            "  super().__init__(activity_regularizer=activity_regularizer, **kwargs)\n"
          ]
        }
      ]
    },
    {
      "cell_type": "markdown",
      "source": [
        "**Implementing early stopping and reduce the learning rate**"
      ],
      "metadata": {
        "id": "jYbYqR0YPyVp"
      }
    },
    {
      "cell_type": "code",
      "source": [
        "early_stopping=callbacks.EarlyStopping(patience=5,restore_best_weights=True)\n",
        "reduce_lr=callbacks.ReduceLROnPlateau(patience=3,factor=0.20)"
      ],
      "metadata": {
        "id": "hy-1zuNXP32-"
      },
      "execution_count": 47,
      "outputs": []
    },
    {
      "cell_type": "markdown",
      "source": [
        "**Training the model**"
      ],
      "metadata": {
        "id": "o9zTd8q9Qcv4"
      }
    },
    {
      "cell_type": "code",
      "source": [
        "history=model.fit(train_images,train_labels,epochs=30,validation_split=0.20,callbacks=[early_stopping,reduce_lr])"
      ],
      "metadata": {
        "colab": {
          "base_uri": "https://localhost:8080/"
        },
        "id": "Qt0LrNNQQe-R",
        "outputId": "25e47ad1-a20e-4b79-835a-d716d74708e5"
      },
      "execution_count": 49,
      "outputs": [
        {
          "output_type": "stream",
          "name": "stdout",
          "text": [
            "Epoch 1/30\n",
            "\u001b[1m1500/1500\u001b[0m \u001b[32m━━━━━━━━━━━━━━━━━━━━\u001b[0m\u001b[37m\u001b[0m \u001b[1m76s\u001b[0m 48ms/step - accuracy: 0.9017 - loss: 0.3272 - val_accuracy: 0.9794 - val_loss: 0.0724 - learning_rate: 0.0010\n",
            "Epoch 2/30\n",
            "\u001b[1m1500/1500\u001b[0m \u001b[32m━━━━━━━━━━━━━━━━━━━━\u001b[0m\u001b[37m\u001b[0m \u001b[1m84s\u001b[0m 49ms/step - accuracy: 0.9771 - loss: 0.0794 - val_accuracy: 0.9861 - val_loss: 0.0508 - learning_rate: 0.0010\n",
            "Epoch 3/30\n",
            "\u001b[1m1500/1500\u001b[0m \u001b[32m━━━━━━━━━━━━━━━━━━━━\u001b[0m\u001b[37m\u001b[0m \u001b[1m80s\u001b[0m 48ms/step - accuracy: 0.9843 - loss: 0.0593 - val_accuracy: 0.9877 - val_loss: 0.0506 - learning_rate: 0.0010\n",
            "Epoch 4/30\n",
            "\u001b[1m1500/1500\u001b[0m \u001b[32m━━━━━━━━━━━━━━━━━━━━\u001b[0m\u001b[37m\u001b[0m \u001b[1m84s\u001b[0m 49ms/step - accuracy: 0.9876 - loss: 0.0443 - val_accuracy: 0.9894 - val_loss: 0.0423 - learning_rate: 0.0010\n",
            "Epoch 5/30\n",
            "\u001b[1m1500/1500\u001b[0m \u001b[32m━━━━━━━━━━━━━━━━━━━━\u001b[0m\u001b[37m\u001b[0m \u001b[1m81s\u001b[0m 49ms/step - accuracy: 0.9898 - loss: 0.0352 - val_accuracy: 0.9902 - val_loss: 0.0384 - learning_rate: 0.0010\n",
            "Epoch 6/30\n",
            "\u001b[1m1500/1500\u001b[0m \u001b[32m━━━━━━━━━━━━━━━━━━━━\u001b[0m\u001b[37m\u001b[0m \u001b[1m72s\u001b[0m 48ms/step - accuracy: 0.9902 - loss: 0.0325 - val_accuracy: 0.9881 - val_loss: 0.0452 - learning_rate: 0.0010\n",
            "Epoch 7/30\n",
            "\u001b[1m1500/1500\u001b[0m \u001b[32m━━━━━━━━━━━━━━━━━━━━\u001b[0m\u001b[37m\u001b[0m \u001b[1m82s\u001b[0m 48ms/step - accuracy: 0.9925 - loss: 0.0253 - val_accuracy: 0.9875 - val_loss: 0.0527 - learning_rate: 0.0010\n",
            "Epoch 8/30\n",
            "\u001b[1m1500/1500\u001b[0m \u001b[32m━━━━━━━━━━━━━━━━━━━━\u001b[0m\u001b[37m\u001b[0m \u001b[1m84s\u001b[0m 50ms/step - accuracy: 0.9925 - loss: 0.0268 - val_accuracy: 0.9886 - val_loss: 0.0592 - learning_rate: 0.0010\n",
            "Epoch 9/30\n",
            "\u001b[1m1500/1500\u001b[0m \u001b[32m━━━━━━━━━━━━━━━━━━━━\u001b[0m\u001b[37m\u001b[0m \u001b[1m80s\u001b[0m 48ms/step - accuracy: 0.9950 - loss: 0.0183 - val_accuracy: 0.9924 - val_loss: 0.0391 - learning_rate: 2.0000e-04\n",
            "Epoch 10/30\n",
            "\u001b[1m1500/1500\u001b[0m \u001b[32m━━━━━━━━━━━━━━━━━━━━\u001b[0m\u001b[37m\u001b[0m \u001b[1m71s\u001b[0m 48ms/step - accuracy: 0.9975 - loss: 0.0083 - val_accuracy: 0.9925 - val_loss: 0.0391 - learning_rate: 2.0000e-04\n"
          ]
        }
      ]
    },
    {
      "cell_type": "code",
      "source": [
        "loss,accuracy=model.evaluate(test_images,test_labels)\n",
        "print(f'Loss {loss}')\n",
        "print(f'Accuracy {accuracy}')"
      ],
      "metadata": {
        "colab": {
          "base_uri": "https://localhost:8080/"
        },
        "id": "KltWe5S2UETq",
        "outputId": "957b20c2-103f-4f2f-ae09-14a8ce82cc9e"
      },
      "execution_count": 50,
      "outputs": [
        {
          "output_type": "stream",
          "name": "stdout",
          "text": [
            "\u001b[1m313/313\u001b[0m \u001b[32m━━━━━━━━━━━━━━━━━━━━\u001b[0m\u001b[37m\u001b[0m \u001b[1m5s\u001b[0m 16ms/step - accuracy: 0.9856 - loss: 0.0425\n",
            "Loss 0.03585869446396828\n",
            "Accuracy 0.988099992275238\n"
          ]
        }
      ]
    },
    {
      "cell_type": "code",
      "source": [
        "plt.figure(figsize=(10,4))\n",
        "plt.subplot(1,2,1)\n",
        "plt.plot(history.history['accuracy'],label='Training Accuracy')\n",
        "plt.plot(history.history['val_loss'],label='Validation loss')\n",
        "plt.xlabel('Epochs')\n",
        "plt.ylabel('Accuracy')\n",
        "plt.legend()\n",
        "plt.grid(True)\n",
        "\n",
        "plt.subplot(1,2,2)\n",
        "plt.plot(history.history['loss'],label='Training Loss')\n",
        "plt.plot(history.history['val_loss'],label='Validation loss')\n",
        "plt.xlabel('Epochs')\n",
        "plt.ylabel('Loss')\n",
        "plt.legend()\n",
        "plt.grid(True)\n",
        "\n",
        "plt.tight_layout()"
      ],
      "metadata": {
        "colab": {
          "base_uri": "https://localhost:8080/",
          "height": 407
        },
        "id": "3nW6JLgGUfPd",
        "outputId": "aa2d0401-d79c-4cab-cb91-5f50bcbff09a"
      },
      "execution_count": 55,
      "outputs": [
        {
          "output_type": "display_data",
          "data": {
            "text/plain": [
              "<Figure size 1000x400 with 2 Axes>"
            ],
            "image/png": "[encoded data removed]"
          },
          "metadata": {}
        }
      ]
    },
    {
      "cell_type": "markdown",
      "source": [
        "**Saving the model**"
      ],
      "metadata": {
        "id": "ygf4KPZ4VpUW"
      }
    },
    {
      "cell_type": "code",
      "source": [
        "model.save('mnist.keras')\n",
        "print('model saved')"
      ],
      "metadata": {
        "colab": {
          "base_uri": "https://localhost:8080/"
        },
        "id": "oG5GXrVVVrXg",
        "outputId": "41695208-b9cc-43a0-e26c-5124905ea16e"
      },
      "execution_count": 56,
      "outputs": [
        {
          "output_type": "stream",
          "name": "stdout",
          "text": [
            "model saved\n"
          ]
        }
      ]
    },
    {
      "cell_type": "markdown",
      "source": [
        "**Prediction**"
      ],
      "metadata": {
        "id": "ixkV4HcuWNBi"
      }
    },
    {
      "cell_type": "code",
      "source": [
        "image_path=r\"/content/4img.jpg\"\n",
        "img=Image.open(image_path).convert('L') #Converting image to gray scale\n",
        "img=ImageOps.invert(img) #0-255\n",
        "img=img.resize((28,28))\n",
        "img_arr=np.array(img)\n",
        "img_arr=img_arr.astype('float32')/255\n",
        "img_arr=img_arr.reshape((-1,28,28,1))\n",
        "prediction=model.predict(img_arr)\n",
        "prediction_class=np.argmax(prediction)\n",
        "confidence=np.max(prediction)\n",
        "img=img.resize((28,28))\n",
        "img_arr=np.array(img)\n",
        "img_arr=img_arr.astype('float32')/255\n",
        "img_arr=img_arr.reshape((-1,28,28,1))\n",
        "prediction=model.predict(img_arr)\n",
        "prediction_class=np.argmax(prediction)\n",
        "confidence=np.max(prediction)"
      ],
      "metadata": {
        "colab": {
          "base_uri": "https://localhost:8080/"
        },
        "id": "XhKmDsqiWOka",
        "outputId": "f0a369ce-513c-4cf7-bb91-f7ad37aed45e"
      },
      "execution_count": 63,
      "outputs": [
        {
          "output_type": "stream",
          "name": "stdout",
          "text": [
            "\u001b[1m1/1\u001b[0m \u001b[32m━━━━━━━━━━━━━━━━━━━━\u001b[0m\u001b[37m\u001b[0m \u001b[1m0s\u001b[0m 142ms/step\n",
            "\u001b[1m1/1\u001b[0m \u001b[32m━━━━━━━━━━━━━━━━━━━━\u001b[0m\u001b[37m\u001b[0m \u001b[1m0s\u001b[0m 23ms/step\n"
          ]
        }
      ]
    },
    {
      "cell_type": "code",
      "source": [
        "print(prediction_class,confidence)"
      ],
      "metadata": {
        "colab": {
          "base_uri": "https://localhost:8080/"
        },
        "id": "foPq3H3rYHWW",
        "outputId": "20b23ad2-1eec-431f-c952-58aaceb35de6"
      },
      "execution_count": 65,
      "outputs": [
        {
          "output_type": "stream",
          "name": "stdout",
          "text": [
            "1 0.9999988\n"
          ]
        }
      ]
    }
  ]
}